{
 "cells": [
  {
   "cell_type": "code",
   "execution_count": 32,
   "id": "74bbb57d",
   "metadata": {},
   "outputs": [],
   "source": [
    "import os\n",
    "import json\n",
    "import re\n",
    "import pandas as pd\n",
    "import traceback"
   ]
  },
  {
   "cell_type": "code",
   "execution_count": 33,
   "id": "0eb184d9",
   "metadata": {},
   "outputs": [],
   "source": [
    "from langchain_community.llms import Ollama\n",
    "from langchain.prompts import PromptTemplate\n",
    "from langchain.chains import LLMChain, SequentialChain\n",
    "\n",
    "import PyPDF2\n",
    "llm = Ollama(model=\"llama2\")  "
   ]
  },
  {
   "cell_type": "code",
   "execution_count": 34,
   "id": "430068c7",
   "metadata": {},
   "outputs": [
    {
     "data": {
      "text/plain": [
       "Ollama()"
      ]
     },
     "execution_count": 34,
     "metadata": {},
     "output_type": "execute_result"
    }
   ],
   "source": [
    "llm"
   ]
  },
  {
   "cell_type": "code",
   "execution_count": 35,
   "id": "5fd457db",
   "metadata": {},
   "outputs": [],
   "source": [
    "RESPONSE_JSON = {\n",
    "    \"1\": { \"mcq\": \"multiple choice question\", \"options\": {\"a\": \"choice here\", \"b\": \"choice here\", \"c\": \"choice here\", \"d\": \"choice here\"}, \"correct\": \"correct answer\"},\n",
    "    \"2\": { \"mcq\": \"multiple choice question\", \"options\": {\"a\": \"choice here\", \"b\": \"choice here\", \"c\": \"choice here\", \"d\": \"choice here\"}, \"correct\": \"correct answer\"},\n",
    "    \"3\": { \"mcq\": \"multiple choice question\", \"options\": {\"a\": \"choice here\", \"b\": \"choice here\", \"c\": \"choice here\", \"d\": \"choice here\"}, \"correct\": \"correct answer\"},\n",
    "}"
   ]
  },
  {
   "cell_type": "code",
   "execution_count": 36,
   "id": "b31d79b6",
   "metadata": {},
   "outputs": [],
   "source": [
    "TEMPLATE = \"\"\"\n",
    "Text:{text}\n",
    "You are an expert MCQ maker. Given the above text, it is your job to create a quiz of {number} multiple choice questions for {subject} students in {tone} tone.\n",
    "Make sure the questions are not repeated and check all the questions to be conforming the text as well.\n",
    "Make sure to format your response as a valid JSON object ONLY, matching the RESPONSE_JSON below.\n",
    "Ensure to make {number} MCQs.\n",
    "RESPONSE_JSON:\n",
    "{response_json}\n",
    "\"\"\""
   ]
  },
  {
   "cell_type": "code",
   "execution_count": 37,
   "id": "79d2ede9",
   "metadata": {},
   "outputs": [],
   "source": [
    "quiz_generation_prompt = PromptTemplate(\n",
    "    input_variables=[\"text\", \"number\", \"subject\", \"tone\", \"response_json\"],\n",
    "    template=TEMPLATE\n",
    ")"
   ]
  },
  {
   "cell_type": "code",
   "execution_count": 38,
   "id": "6e1bd731",
   "metadata": {},
   "outputs": [],
   "source": [
    "quiz_chain=LLMChain(llm=llm, prompt=quiz_generation_prompt, output_key=\"quiz\", verbose=True)"
   ]
  },
  {
   "cell_type": "code",
   "execution_count": 39,
   "id": "4d3c182e",
   "metadata": {},
   "outputs": [],
   "source": [
    "TEMPLATE2 = \"\"\"\n",
    "You are an expert english grammarian and writer. Given a Multiple Choice Quiz for {subject} students.\n",
    "You need to evaluate the complexity of the question and give a complete analysis of the quiz. Only use at max 50 words for complexity analysis.\n",
    "If the quiz is not at per with the cognitive and analytical abilities of the students, update the quiz questions which need to be changed and change the tone such that it perfectly fits the student abilities.\n",
    "Quiz_MCQs:\n",
    "{quiz}\n",
    "\n",
    "Check from an expert English Writer of the above quiz:\n",
    "\"\"\""
   ]
  },
  {
   "cell_type": "code",
   "execution_count": 40,
   "id": "bef7ed39",
   "metadata": {},
   "outputs": [],
   "source": [
    "quiz_evaluation_prompt=PromptTemplate(input_variables=[\"subject\", \"quiz\"], template=TEMPLATE)"
   ]
  },
  {
   "cell_type": "code",
   "execution_count": 41,
   "id": "0e840837",
   "metadata": {},
   "outputs": [],
   "source": [
    "review_chain=LLMChain(llm=llm, prompt=quiz_evaluation_prompt, output_key=\"review\", verbose=True)"
   ]
  },
  {
   "cell_type": "code",
   "execution_count": 42,
   "id": "bd305916",
   "metadata": {},
   "outputs": [],
   "source": [
    "generate_evaluate_chain = SequentialChain(\n",
    "    chains=[quiz_chain, review_chain],\n",
    "    input_variables=[\"text\", \"number\", \"subject\", \"tone\", \"response_json\"],\n",
    "    output_variables=[\"quiz\", \"review\"],\n",
    "    verbose=True,\n",
    ")"
   ]
  },
  {
   "cell_type": "code",
   "execution_count": 43,
   "id": "250cea7a",
   "metadata": {},
   "outputs": [],
   "source": [
    "file_path=\"/Users/nirajgupta/mcqgen/data.txt\""
   ]
  },
  {
   "cell_type": "code",
   "execution_count": 44,
   "id": "4d4dcda4",
   "metadata": {},
   "outputs": [
    {
     "data": {
      "text/plain": [
       "'/Users/nirajgupta/mcqgen/data.txt'"
      ]
     },
     "execution_count": 44,
     "metadata": {},
     "output_type": "execute_result"
    }
   ],
   "source": [
    "file_path"
   ]
  },
  {
   "cell_type": "code",
   "execution_count": 45,
   "id": "7e98d869",
   "metadata": {},
   "outputs": [],
   "source": [
    "with open(file_path,'r') as file:\n",
    "    TEXT = file.read()"
   ]
  },
  {
   "cell_type": "code",
   "execution_count": 46,
   "id": "18070f32",
   "metadata": {},
   "outputs": [
    {
     "name": "stdout",
     "output_type": "stream",
     "text": [
      "Machine Learning (ML) is a branch of Artificial Intelligence (AI) that focuses on \n",
      "enabling computers to learn from data and make predictions or decisions without \n",
      "being explicitly programmed. Instead of writing detailed rules for every possible \n",
      "scenario, in ML we provide the system with large amounts of data and allow it to \n",
      "automatically learn patterns and relationships. This makes ML especially powerful \n",
      "for solving complex problems where rule-based programming would be impractical, \n",
      "such as image recognition, speech processing, or natural language understanding. \n",
      "The field of ML is generally divided into three main types: supervised learning, \n",
      "unsupervised learning, and reinforcement learning. In supervised learning, the\n",
      "algorithm learns from labeled data, where each input example has a correct output\n",
      "(label), allowing the system to learn a mapping from inputs to outputs. This is \n",
      "commonly used in tasks like predicting house prices, classifying emails as spam or\n",
      "not, or detecting fraudulent transactions. Unsupervised learning, on the other\n",
      "hand, works with unlabeled data, where the goal is to discover hidden patterns \n",
      "or structure in the data, such as grouping customers into segments or reducing \n",
      "the dimensionality of data using Principal Component Analysis (PCA). Reinforcement\n",
      "learning is a different approach where an agent learns by interacting with an \n",
      "environment and receiving rewards or penalties, which is often used in robotics\n",
      "or game-playing applications, like AlphaGo. The typical machine learning workflow\n",
      "involves collecting and preprocessing data to remove noise and normalize features, \n",
      "followed by training a model using an appropriate algorithm, testing the model on\n",
      "unseen data to evaluate its performance, and finally deploying the model into \n",
      "real-world applications. Key algorithms include linear regression for predicting \n",
      "continuous values, logistic regression for classification tasks, decision trees \n",
      "for simple decision-making problems, K-means clustering for unsupervised grouping,\n",
      "and deep learning models (neural networks) for complex tasks such as image and\n",
      "speech recognition. Evaluating the model’s accuracy is critical and commonly \n",
      "uses metrics such as mean squared error for regression tasks and accuracy, \n",
      "precision, recall, or F1-score for classification problems. Despite its power, \n",
      "machine learning faces several challenges, such as requiring large amounts of \n",
      "high-quality data, avoiding overfitting where the model performs well on training \n",
      "data but poorly on new data, ensuring interpretability of the model’s decisions,\n",
      "and managing the computational resources required for training complex models.\n",
      "Today, machine learning is used everywhere—from self-driving cars to recommendation\n",
      "engines in Netflix or Amazon, from voice assistants like Siri and Alexa to medical\n",
      "diagnostics—making it one of the most transformative technologies of the 21st century.\n"
     ]
    }
   ],
   "source": [
    "print(TEXT)"
   ]
  },
  {
   "cell_type": "code",
   "execution_count": 47,
   "id": "9b2d3643",
   "metadata": {},
   "outputs": [],
   "source": [
    "NUMBER=5 \n",
    "SUBJECT=\"machine learning\"\n",
    "TONE=\"simple\""
   ]
  },
  {
   "cell_type": "code",
   "execution_count": 48,
   "id": "8fdcd646",
   "metadata": {},
   "outputs": [
    {
     "name": "stderr",
     "output_type": "stream",
     "text": [
      "Error in StdOutCallbackHandler.on_chain_start callback: AttributeError(\"'NoneType' object has no attribute 'get'\")\n"
     ]
    },
    {
     "name": "stdout",
     "output_type": "stream",
     "text": [
      "Prompt after formatting:\n",
      "\u001b[32;1m\u001b[1;3m\n",
      "Text:Machine Learning (ML) is a branch of Artificial Intelligence (AI) that focuses on \n",
      "enabling computers to learn from data and make predictions or decisions without \n",
      "being explicitly programmed. Instead of writing detailed rules for every possible \n",
      "scenario, in ML we provide the system with large amounts of data and allow it to \n",
      "automatically learn patterns and relationships. This makes ML especially powerful \n",
      "for solving complex problems where rule-based programming would be impractical, \n",
      "such as image recognition, speech processing, or natural language understanding. \n",
      "The field of ML is generally divided into three main types: supervised learning, \n",
      "unsupervised learning, and reinforcement learning. In supervised learning, the\n",
      "algorithm learns from labeled data, where each input example has a correct output\n",
      "(label), allowing the system to learn a mapping from inputs to outputs. This is \n",
      "commonly used in tasks like predicting house prices, classifying emails as spam or\n",
      "not, or detecting fraudulent transactions. Unsupervised learning, on the other\n",
      "hand, works with unlabeled data, where the goal is to discover hidden patterns \n",
      "or structure in the data, such as grouping customers into segments or reducing \n",
      "the dimensionality of data using Principal Component Analysis (PCA). Reinforcement\n",
      "learning is a different approach where an agent learns by interacting with an \n",
      "environment and receiving rewards or penalties, which is often used in robotics\n",
      "or game-playing applications, like AlphaGo. The typical machine learning workflow\n",
      "involves collecting and preprocessing data to remove noise and normalize features, \n",
      "followed by training a model using an appropriate algorithm, testing the model on\n",
      "unseen data to evaluate its performance, and finally deploying the model into \n",
      "real-world applications. Key algorithms include linear regression for predicting \n",
      "continuous values, logistic regression for classification tasks, decision trees \n",
      "for simple decision-making problems, K-means clustering for unsupervised grouping,\n",
      "and deep learning models (neural networks) for complex tasks such as image and\n",
      "speech recognition. Evaluating the model’s accuracy is critical and commonly \n",
      "uses metrics such as mean squared error for regression tasks and accuracy, \n",
      "precision, recall, or F1-score for classification problems. Despite its power, \n",
      "machine learning faces several challenges, such as requiring large amounts of \n",
      "high-quality data, avoiding overfitting where the model performs well on training \n",
      "data but poorly on new data, ensuring interpretability of the model’s decisions,\n",
      "and managing the computational resources required for training complex models.\n",
      "Today, machine learning is used everywhere—from self-driving cars to recommendation\n",
      "engines in Netflix or Amazon, from voice assistants like Siri and Alexa to medical\n",
      "diagnostics—making it one of the most transformative technologies of the 21st century.\n",
      "You are an expert MCQ maker. Given the above text, it is your job to create a quiz of 5 multiple choice questions for machine learning students in simple tone.\n",
      "Make sure the questions are not repeated and check all the questions to be conforming the text as well.\n",
      "Make sure to format your response as a valid JSON object ONLY, matching the RESPONSE_JSON below.\n",
      "Ensure to make 5 MCQs.\n",
      "RESPONSE_JSON:\n",
      "{\"1\": {\"mcq\": \"multiple choice question\", \"options\": {\"a\": \"choice here\", \"b\": \"choice here\", \"c\": \"choice here\", \"d\": \"choice here\"}, \"correct\": \"correct answer\"}, \"2\": {\"mcq\": \"multiple choice question\", \"options\": {\"a\": \"choice here\", \"b\": \"choice here\", \"c\": \"choice here\", \"d\": \"choice here\"}, \"correct\": \"correct answer\"}, \"3\": {\"mcq\": \"multiple choice question\", \"options\": {\"a\": \"choice here\", \"b\": \"choice here\", \"c\": \"choice here\", \"d\": \"choice here\"}, \"correct\": \"correct answer\"}}\n",
      "\u001b[0m\n"
     ]
    },
    {
     "name": "stderr",
     "output_type": "stream",
     "text": [
      "Error in StdOutCallbackHandler.on_chain_start callback: AttributeError(\"'NoneType' object has no attribute 'get'\")\n"
     ]
    },
    {
     "name": "stdout",
     "output_type": "stream",
     "text": [
      "\n",
      "\u001b[1m> Finished chain.\u001b[0m\n",
      "Prompt after formatting:\n",
      "\u001b[32;1m\u001b[1;3m\n",
      "Text:Machine Learning (ML) is a branch of Artificial Intelligence (AI) that focuses on \n",
      "enabling computers to learn from data and make predictions or decisions without \n",
      "being explicitly programmed. Instead of writing detailed rules for every possible \n",
      "scenario, in ML we provide the system with large amounts of data and allow it to \n",
      "automatically learn patterns and relationships. This makes ML especially powerful \n",
      "for solving complex problems where rule-based programming would be impractical, \n",
      "such as image recognition, speech processing, or natural language understanding. \n",
      "The field of ML is generally divided into three main types: supervised learning, \n",
      "unsupervised learning, and reinforcement learning. In supervised learning, the\n",
      "algorithm learns from labeled data, where each input example has a correct output\n",
      "(label), allowing the system to learn a mapping from inputs to outputs. This is \n",
      "commonly used in tasks like predicting house prices, classifying emails as spam or\n",
      "not, or detecting fraudulent transactions. Unsupervised learning, on the other\n",
      "hand, works with unlabeled data, where the goal is to discover hidden patterns \n",
      "or structure in the data, such as grouping customers into segments or reducing \n",
      "the dimensionality of data using Principal Component Analysis (PCA). Reinforcement\n",
      "learning is a different approach where an agent learns by interacting with an \n",
      "environment and receiving rewards or penalties, which is often used in robotics\n",
      "or game-playing applications, like AlphaGo. The typical machine learning workflow\n",
      "involves collecting and preprocessing data to remove noise and normalize features, \n",
      "followed by training a model using an appropriate algorithm, testing the model on\n",
      "unseen data to evaluate its performance, and finally deploying the model into \n",
      "real-world applications. Key algorithms include linear regression for predicting \n",
      "continuous values, logistic regression for classification tasks, decision trees \n",
      "for simple decision-making problems, K-means clustering for unsupervised grouping,\n",
      "and deep learning models (neural networks) for complex tasks such as image and\n",
      "speech recognition. Evaluating the model’s accuracy is critical and commonly \n",
      "uses metrics such as mean squared error for regression tasks and accuracy, \n",
      "precision, recall, or F1-score for classification problems. Despite its power, \n",
      "machine learning faces several challenges, such as requiring large amounts of \n",
      "high-quality data, avoiding overfitting where the model performs well on training \n",
      "data but poorly on new data, ensuring interpretability of the model’s decisions,\n",
      "and managing the computational resources required for training complex models.\n",
      "Today, machine learning is used everywhere—from self-driving cars to recommendation\n",
      "engines in Netflix or Amazon, from voice assistants like Siri and Alexa to medical\n",
      "diagnostics—making it one of the most transformative technologies of the 21st century.\n",
      "You are an expert MCQ maker. Given the above text, it is your job to create a quiz of 5 multiple choice questions for machine learning students in simple tone.\n",
      "Make sure the questions are not repeated and check all the questions to be conforming the text as well.\n",
      "Make sure to format your response as a valid JSON object ONLY, matching the RESPONSE_JSON below.\n",
      "Ensure to make 5 MCQs.\n",
      "RESPONSE_JSON:\n",
      "{\"1\": {\"mcq\": \"multiple choice question\", \"options\": {\"a\": \"choice here\", \"b\": \"choice here\", \"c\": \"choice here\", \"d\": \"choice here\"}, \"correct\": \"correct answer\"}, \"2\": {\"mcq\": \"multiple choice question\", \"options\": {\"a\": \"choice here\", \"b\": \"choice here\", \"c\": \"choice here\", \"d\": \"choice here\"}, \"correct\": \"correct answer\"}, \"3\": {\"mcq\": \"multiple choice question\", \"options\": {\"a\": \"choice here\", \"b\": \"choice here\", \"c\": \"choice here\", \"d\": \"choice here\"}, \"correct\": \"correct answer\"}}\n",
      "\u001b[0m\n",
      "\n",
      "\u001b[1m> Finished chain.\u001b[0m\n"
     ]
    }
   ],
   "source": [
    "generate_evaluate_chain.verbose = False\n",
    "response = generate_evaluate_chain({\n",
    "    \"text\": TEXT,\n",
    "    \"number\": NUMBER,\n",
    "    \"subject\": SUBJECT,\n",
    "    \"tone\": TONE,\n",
    "    \"response_json\": json.dumps(RESPONSE_JSON)\n",
    "})"
   ]
  },
  {
   "cell_type": "code",
   "execution_count": 49,
   "id": "b179f440",
   "metadata": {},
   "outputs": [
    {
     "name": "stdout",
     "output_type": "stream",
     "text": [
      "{'text': 'Machine Learning (ML) is a branch of Artificial Intelligence (AI) that focuses on \\nenabling computers to learn from data and make predictions or decisions without \\nbeing explicitly programmed. Instead of writing detailed rules for every possible \\nscenario, in ML we provide the system with large amounts of data and allow it to \\nautomatically learn patterns and relationships. This makes ML especially powerful \\nfor solving complex problems where rule-based programming would be impractical, \\nsuch as image recognition, speech processing, or natural language understanding. \\nThe field of ML is generally divided into three main types: supervised learning, \\nunsupervised learning, and reinforcement learning. In supervised learning, the\\nalgorithm learns from labeled data, where each input example has a correct output\\n(label), allowing the system to learn a mapping from inputs to outputs. This is \\ncommonly used in tasks like predicting house prices, classifying emails as spam or\\nnot, or detecting fraudulent transactions. Unsupervised learning, on the other\\nhand, works with unlabeled data, where the goal is to discover hidden patterns \\nor structure in the data, such as grouping customers into segments or reducing \\nthe dimensionality of data using Principal Component Analysis (PCA). Reinforcement\\nlearning is a different approach where an agent learns by interacting with an \\nenvironment and receiving rewards or penalties, which is often used in robotics\\nor game-playing applications, like AlphaGo. The typical machine learning workflow\\ninvolves collecting and preprocessing data to remove noise and normalize features, \\nfollowed by training a model using an appropriate algorithm, testing the model on\\nunseen data to evaluate its performance, and finally deploying the model into \\nreal-world applications. Key algorithms include linear regression for predicting \\ncontinuous values, logistic regression for classification tasks, decision trees \\nfor simple decision-making problems, K-means clustering for unsupervised grouping,\\nand deep learning models (neural networks) for complex tasks such as image and\\nspeech recognition. Evaluating the model’s accuracy is critical and commonly \\nuses metrics such as mean squared error for regression tasks and accuracy, \\nprecision, recall, or F1-score for classification problems. Despite its power, \\nmachine learning faces several challenges, such as requiring large amounts of \\nhigh-quality data, avoiding overfitting where the model performs well on training \\ndata but poorly on new data, ensuring interpretability of the model’s decisions,\\nand managing the computational resources required for training complex models.\\nToday, machine learning is used everywhere—from self-driving cars to recommendation\\nengines in Netflix or Amazon, from voice assistants like Siri and Alexa to medical\\ndiagnostics—making it one of the most transformative technologies of the 21st century.', 'number': 5, 'subject': 'machine learning', 'tone': 'simple', 'response_json': '{\"1\": {\"mcq\": \"multiple choice question\", \"options\": {\"a\": \"choice here\", \"b\": \"choice here\", \"c\": \"choice here\", \"d\": \"choice here\"}, \"correct\": \"correct answer\"}, \"2\": {\"mcq\": \"multiple choice question\", \"options\": {\"a\": \"choice here\", \"b\": \"choice here\", \"c\": \"choice here\", \"d\": \"choice here\"}, \"correct\": \"correct answer\"}, \"3\": {\"mcq\": \"multiple choice question\", \"options\": {\"a\": \"choice here\", \"b\": \"choice here\", \"c\": \"choice here\", \"d\": \"choice here\"}, \"correct\": \"correct answer\"}}', 'quiz': '{\\n\"1\": {\\n\"mcq\": \"What is machine learning?\",\\n\"options\": [\"A branch of Artificial Intelligence that enables computers to learn from data and make predictions or decisions without being explicitly programmed.\", \"A type of programming language used for creating artificial intelligence systems.\", \"The process of training a computer model to perform a specific task.\"],\\n\"correct\": \"A branch of Artificial Intelligence that enables computers to learn from data and make predictions or decisions without being explicitly programmed.\"\\n},\\n\"2\": {\\n\"mcq\": \"What are the three main types of machine learning?\",\\n\"options\": [\"Supervised learning, unsupervised learning, and reinforcement learning.\", \"Unsupervised learning, supervised learning, and deep learning.\", \"Reinforcement learning, supervised learning, and unsupervised learning.\"],\\n\"correct\": \"Supervised learning, unsupervised learning, and reinforcement learning.\"\\n},\\n\"3\": {\\n\"mcq\": \"What is the typical machine learning workflow?\",\\n\"options\": [\"Collecting and preprocessing data, training a model using an appropriate algorithm, testing the model on unseen data to evaluate its performance, and deploying the model into real-world applications.\", \" Collecting and preprocessing data, selecting an appropriate algorithm, testing the model on unseen data to evaluate its performance, and deploying the model into real-world applications.\", \"Collecting and preprocessing data, training a model using an appropriate algorithm, testing the model on unseen data to evaluate its performance, and finally deploying the model into real-world applications.\"],\\n\"correct\": \"Collecting and preprocessing data, training a model using an appropriate algorithm, testing the model on unseen data to evaluate its performance, and deploying the model into real-world applications.\"\\n}\\n}', 'review': '{\\n\"1\": {\\n\"mcq\": \"What is machine learning?\",\\n\"options\": [\\n{\"a\": \"A branch of artificial intelligence that enables computers to learn from data without being explicitly programmed.\"},\\n{\"b\": \"A type of programming that allows computers to make decisions based on complex rules.\"},\\n{\"c\": \"A way for computers to understand and analyze large amounts of data.\"},\\n{\"d\": \"A form of artificial intelligence that uses neural networks to learn from data.\"}\\n],\\n\"correct\": \"a\"\\n},\\n\"2\": {\\n\"mcq\": \"What is the main goal of machine learning?\",\\n\"options\": [\\n{\"a\": \"To create models that can make predictions or decisions without being explicitly programmed.\"},\\n{\"b\": \"To develop algorithms that can solve complex problems.\"},\\n{\"c\": \"To understand and analyze large amounts of data.\"},\\n{\"d\": \"To create models that are more accurate than those created using traditional programming methods.\"}\\n],\\n\"correct\": \"a\"\\n},\\n\"3\": {\\n\"mcq\": \"What is the difference between supervised learning and unsupervised learning in machine learning?\",\\n\"options\": [\\n{\"a\": \"Supervised learning involves training a model on labeled data, while unsupervised learning involves training a model on unlabeled data.\"},\\n{\"b\": \"Supervised learning involves training a model on unlabeled data, while unsupervised learning involves training a model on labeled data.\"},\\n{\"c\": \"Supervised learning is used for tasks that require precise outputs, while unsupervised learning is used for tasks that require only general patterns.\"},\\n{\"d\": \"Supervised learning is used for tasks that require only general patterns, while unsupervised learning is used for tasks that require precise outputs\"}\\n],\\n\"correct\": \"a\"\\n}\\n}'}\n"
     ]
    }
   ],
   "source": [
    "print(response)"
   ]
  },
  {
   "cell_type": "code",
   "execution_count": 50,
   "id": "5f7e1785",
   "metadata": {},
   "outputs": [],
   "source": [
    "quiz=response.get(\"quiz\")"
   ]
  },
  {
   "cell_type": "code",
   "execution_count": 51,
   "id": "65359b5e",
   "metadata": {},
   "outputs": [],
   "source": [
    "if isinstance(quiz, str):\n",
    "    match = re.search(r'\\{.*\\}', quiz, re.DOTALL)\n",
    "    if match:\n",
    "        quiz_json_str = match.group(0)\n",
    "        try:\n",
    "            quiz = json.loads(quiz_json_str)\n",
    "        except Exception as e:\n",
    "            print(\"JSON parsing error:\", e)\n",
    "            print(\"Extracted string:\", quiz_json_str)\n",
    "    else:\n",
    "        print(\"Could not find JSON object in quiz string.\")\n"
   ]
  },
  {
   "cell_type": "code",
   "execution_count": 52,
   "id": "01ecb49f",
   "metadata": {},
   "outputs": [
    {
     "name": "stdout",
     "output_type": "stream",
     "text": [
      "Type of quiz: <class 'dict'>\n",
      "Value of quiz: {'1': {'mcq': 'What is machine learning?', 'options': ['A branch of Artificial Intelligence that enables computers to learn from data and make predictions or decisions without being explicitly programmed.', 'A type of programming language used for creating artificial intelligence systems.', 'The process of training a computer model to perform a specific task.'], 'correct': 'A branch of Artificial Intelligence that enables computers to learn from data and make predictions or decisions without being explicitly programmed.'}, '2': {'mcq': 'What are the three main types of machine learning?', 'options': ['Supervised learning, unsupervised learning, and reinforcement learning.', 'Unsupervised learning, supervised learning, and deep learning.', 'Reinforcement learning, supervised learning, and unsupervised learning.'], 'correct': 'Supervised learning, unsupervised learning, and reinforcement learning.'}, '3': {'mcq': 'What is the typical machine learning workflow?', 'options': ['Collecting and preprocessing data, training a model using an appropriate algorithm, testing the model on unseen data to evaluate its performance, and deploying the model into real-world applications.', ' Collecting and preprocessing data, selecting an appropriate algorithm, testing the model on unseen data to evaluate its performance, and deploying the model into real-world applications.', 'Collecting and preprocessing data, training a model using an appropriate algorithm, testing the model on unseen data to evaluate its performance, and finally deploying the model into real-world applications.'], 'correct': 'Collecting and preprocessing data, training a model using an appropriate algorithm, testing the model on unseen data to evaluate its performance, and deploying the model into real-world applications.'}}\n"
     ]
    }
   ],
   "source": [
    "print(\"Type of quiz:\", type(quiz))\n",
    "print(\"Value of quiz:\", quiz)"
   ]
  },
  {
   "cell_type": "code",
   "execution_count": 53,
   "id": "b8583924",
   "metadata": {},
   "outputs": [],
   "source": [
    "quiz_table_data = []\n",
    "if isinstance(quiz, dict):\n",
    "    for key, value in quiz.items():\n",
    "        mcq = value.get(\"mcq\", \"\")\n",
    "        options = value.get(\"options\", {})\n",
    "\n",
    "        if isinstance(options, dict):\n",
    "            options_str = \" | \".join(\n",
    "                [f\"{opt}: {opt_value}\" for opt, opt_value in options.items()]\n",
    "            )\n",
    "        elif isinstance(options, list):\n",
    "            options_str = \" | \".join(\n",
    "                [f\"{chr(97 + i)}: {opt}\" for i, opt in enumerate(options)]\n",
    "            )\n",
    "        else:\n",
    "            options_str = \"\"\n",
    "\n",
    "        correct = value.get(\"correct\", \"\")\n",
    "        quiz_table_data.append({\"MCQ\": mcq, \"Choices\": options_str, \"Correct\": correct})\n",
    "else:\n",
    "    print(\"Error: 'quiz' should be a dictionary.\")\n"
   ]
  },
  {
   "cell_type": "code",
   "execution_count": 54,
   "id": "6b41f778",
   "metadata": {},
   "outputs": [
    {
     "name": "stdout",
     "output_type": "stream",
     "text": [
      "{'MCQ': 'What is machine learning?', 'Choices': 'a: A branch of Artificial Intelligence that enables computers to learn from data and make predictions or decisions without being explicitly programmed. | b: A type of programming language used for creating artificial intelligence systems. | c: The process of training a computer model to perform a specific task.', 'Correct': 'A branch of Artificial Intelligence that enables computers to learn from data and make predictions or decisions without being explicitly programmed.'}\n",
      "{'MCQ': 'What are the three main types of machine learning?', 'Choices': 'a: Supervised learning, unsupervised learning, and reinforcement learning. | b: Unsupervised learning, supervised learning, and deep learning. | c: Reinforcement learning, supervised learning, and unsupervised learning.', 'Correct': 'Supervised learning, unsupervised learning, and reinforcement learning.'}\n",
      "{'MCQ': 'What is the typical machine learning workflow?', 'Choices': 'a: Collecting and preprocessing data, training a model using an appropriate algorithm, testing the model on unseen data to evaluate its performance, and deploying the model into real-world applications. | b:  Collecting and preprocessing data, selecting an appropriate algorithm, testing the model on unseen data to evaluate its performance, and deploying the model into real-world applications. | c: Collecting and preprocessing data, training a model using an appropriate algorithm, testing the model on unseen data to evaluate its performance, and finally deploying the model into real-world applications.', 'Correct': 'Collecting and preprocessing data, training a model using an appropriate algorithm, testing the model on unseen data to evaluate its performance, and deploying the model into real-world applications.'}\n"
     ]
    }
   ],
   "source": [
    "for row in quiz_table_data:\n",
    "    print(row)"
   ]
  },
  {
   "cell_type": "code",
   "execution_count": 55,
   "id": "cc1c81a0",
   "metadata": {},
   "outputs": [],
   "source": [
    "df = pd.DataFrame(quiz_table_data)"
   ]
  },
  {
   "cell_type": "code",
   "execution_count": 56,
   "id": "66e6f853",
   "metadata": {},
   "outputs": [
    {
     "name": "stdout",
     "output_type": "stream",
     "text": [
      "                                                 MCQ  \\\n",
      "0                          What is machine learning?   \n",
      "1  What are the three main types of machine learn...   \n",
      "2     What is the typical machine learning workflow?   \n",
      "\n",
      "                                             Choices  \\\n",
      "0  a: A branch of Artificial Intelligence that en...   \n",
      "1  a: Supervised learning, unsupervised learning,...   \n",
      "2  a: Collecting and preprocessing data, training...   \n",
      "\n",
      "                                             Correct  \n",
      "0  A branch of Artificial Intelligence that enabl...  \n",
      "1  Supervised learning, unsupervised learning, an...  \n",
      "2  Collecting and preprocessing data, training a ...  \n"
     ]
    }
   ],
   "source": [
    "print(df)"
   ]
  },
  {
   "cell_type": "code",
   "execution_count": null,
   "id": "522497a9",
   "metadata": {},
   "outputs": [],
   "source": []
  },
  {
   "cell_type": "code",
   "execution_count": 57,
   "id": "06a60071",
   "metadata": {},
   "outputs": [],
   "source": [
    "output_folder = \"/Users/nirajgupta/mcqgen/output\"\n",
    "os.makedirs(output_folder, exist_ok=True)"
   ]
  },
  {
   "cell_type": "code",
   "execution_count": 58,
   "id": "95a01e11",
   "metadata": {},
   "outputs": [],
   "source": [
    "csv_file_path = os.path.join(output_folder, \"mcq_quiz.csv\")\n",
    "df.to_csv(csv_file_path, index=False)"
   ]
  },
  {
   "cell_type": "code",
   "execution_count": 59,
   "id": "cde483ae",
   "metadata": {},
   "outputs": [
    {
     "name": "stdout",
     "output_type": "stream",
     "text": [
      "CSV file saved at: /Users/nirajgupta/mcqgen/output/mcq_quiz.csv\n"
     ]
    }
   ],
   "source": [
    "print(f\"CSV file saved at: {csv_file_path}\")"
   ]
  }
 ],
 "metadata": {
  "kernelspec": {
   "display_name": "Python 3",
   "language": "python",
   "name": "python3"
  },
  "language_info": {
   "codemirror_mode": {
    "name": "ipython",
    "version": 3
   },
   "file_extension": ".py",
   "mimetype": "text/x-python",
   "name": "python",
   "nbconvert_exporter": "python",
   "pygments_lexer": "ipython3",
   "version": "3.8.20"
  }
 },
 "nbformat": 4,
 "nbformat_minor": 5
}
